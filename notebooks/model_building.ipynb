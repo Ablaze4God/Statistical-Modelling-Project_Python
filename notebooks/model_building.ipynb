{
 "cells": [
  {
   "cell_type": "markdown",
   "metadata": {},
   "source": [
    "Build a regression model."
   ]
  },
  {
   "cell_type": "code",
   "execution_count": null,
   "metadata": {},
   "outputs": [],
   "source": [
    "%store -r df_bike_station_data\n",
    "%store -r df_yelp_resultData\n",
    "%store -r df_fourSquare_resultData\n",
    "%store -r df_final\n",
    "\n",
    "df_final = df_final\n",
    "import pandas as pd\n",
    "import numpy as np\n",
    "\n",
    "\n",
    "# ------Reviewed Data (audit) prior to performing data cleaning------\n",
    "# 1. Check for Missing Values\n",
    "missing_values = df_final.isnull().sum()\n",
    "print(\"Missing Values:\")\n",
    "print(missing_values)\n",
    "\n",
    "# 2. Check for Duplicates\n",
    "duplicates = df_final.duplicated()\n",
    "print(\"\\nDuplicate Rows:\")\n",
    "print(final_df[duplicates])\n",
    "\n",
    "# 3. Explore Data Types\n",
    "data_types = df_final.dtypes\n",
    "print(\"\\nData Types:\")\n",
    "print(data_types)\n",
    "\n",
    "# 4. Explore Unique Values\n",
    "unique_values = df_final.nunique()\n",
    "print(\"\\nNumber of Unique Values:\")\n",
    "print(unique_values)\n",
    "\n",
    "# 5. Check for Outliers (Assuming 'Rating' is a numerical column)\n",
    "outliers = df_final.describe()\n",
    "print(\"\\nDescriptive Statistics:\")\n",
    "print(outliers)\n",
    "\n",
    "\n",
    "#------ Handling Missing Values-----------\n",
    "\n",
    "# Count occurrences of 'Nan' in 'Rating' \n",
    "missing_values_count = df_final['Rating'].isna().sum()\n",
    "print(f\"Occurrences of 'NaN' in Rating: {missing_values_count}\")\n",
    "\n",
    "# Count occurrences of 'N/A' in 'Category' \n",
    "category_na_count = (df_final['Category'] == 'N/A').sum()\n",
    "print(f\"Occurrences of 'N/A' in Category: {category_na_count}\")\n",
    "\n",
    "# Filling NaN values in the 'Rating' column with the mean\n",
    "df_final['Rating'].fillna(final_df['Rating'].mean(), inplace=True)\n",
    "df_final['Rating'] = df_final['Rating'].round(2)\n",
    "\n",
    "\n",
    "# Dropping rows with 'N/A' in 'Category' or 'GroupedCategory'\n",
    "df_final = final_df[(df_final['Category'] != 'N/A')]\n",
    "category_na_count = (df_final['Category'] == 'N/A').sum()\n",
    "\n",
    "\n",
    "# Count occurrences of 'Nan' in 'Rating' after cleaning and dropping rows\n",
    "missing_values_count = df_final['Rating'].isna().sum()\n",
    "print(f\"Occurrences of 'NaN' in Rating after Clean: {missing_values_count}\")\n",
    "\n",
    "# Count occurrences of 'N/A' in 'Category after cleaning and dropping rows\n",
    "category_na_count = (df_final['Category'] == 'N/A').sum()\n",
    "print(f\"Occurrences of 'N/A' in Category after Clean: {category_na_count}\")"
   ]
  },
  {
   "cell_type": "code",
   "execution_count": null,
   "metadata": {},
   "outputs": [],
   "source": [
    "def categorize(category):\n",
    "  # Restaurants\n",
    "  if any(keyword in category for keyword in ['Bakery', 'Restaurant', 'French', 'Japanese', 'Pizza', 'Indian', 'Pan Asian', 'Moroccan', 'Thai', 'Bistros', 'Pizzeria', 'Burger Joint', 'Steakhouses', 'Italian', 'Seafood', 'Mexican', 'Chinese', 'Fast Food']):\n",
    "    return 'Restaurant'\n",
    "  \n",
    "  # Bars and Lounges\n",
    "  elif any(keyword in category for keyword in ['Bar', 'Pub', 'Lounge']):\n",
    "    return 'Bar/Lounge'\n",
    "  \n",
    "  # Health Centers\n",
    "  elif any(keyword in category for keyword in ['Hospital', 'Health', 'Drugstore']):\n",
    "    return 'Health Center'\n",
    "  \n",
    "  # Retails\n",
    "  elif any(keyword in category for keyword in ['Computers and Electronics Retail', 'Store', 'Shop', 'Retail', 'Bookstore', 'Botanical Gardens']):\n",
    "    return 'Retail'\n",
    "  \n",
    "  # Education\n",
    "  elif any(keyword in category for keyword in ['School', 'Education', 'Library']):\n",
    "    return 'Education'\n",
    "  \n",
    "  # Entertainment\n",
    "  elif any(keyword in category for keyword in ['Music Venue', 'Theater', 'Cinema', 'Arts and Entertainment', 'Paintball Field']):\n",
    "    return 'Entertainment'\n",
    "  \n",
    "  # Home Services\n",
    "  elif any(keyword in category for keyword in ['Carpenter', 'Home Improvement Service', 'Electrician', 'Plumber', 'Interior Designer', 'Roof Deck', 'Heating, Ventilating and Air Conditioning Contractor']):\n",
    "    return 'Home Services'\n",
    "  \n",
    "  # Landmarks and Historical Buildings\n",
    "  elif any(keyword in category for keyword in ['Monument', 'Scenic Lookout', 'Park', 'Landmarks & Historical Buildings', 'Lakes']):\n",
    "    return 'Landmarks & Historical Buildings'\n",
    "  \n",
    "  # Business and Professional Services\n",
    "  elif any(keyword in category for keyword in ['Management Consultant', 'Business and Professional Services', 'Employment Agency', 'Organization', 'Professional Cleaning Service', 'Accounting and Bookkeeping Service']):\n",
    "    return 'Business Services'\n",
    "  \n",
    "  # Other Services\n",
    "  elif any(keyword in category for keyword in ['Computer Repair Service', 'Audiovisual Service', 'Post Office', 'Utility Company']):\n",
    "    return 'Other Services'\n",
    "  \n",
    "  elif 'N/A' in category:\n",
    "    return 'N/A'\n",
    "  \n",
    "  # Miscellaneous\n",
    "  else:\n",
    "    return 'Miscellaneous'\n",
    "\n",
    "\n",
    "df_final['GroupedCategory'] = df_final['Category'].apply(categorize)\n",
    "\n",
    "# Checking for all unique values in the 'grouped Category' column\n",
    "unique_new_categories = df_final['GroupedCategory'].unique()\n",
    "print(unique_new_categories)\n",
    "\n",
    "\n",
    "df_final[df_final['Key'] == 0].head(10)"
   ]
  },
  {
   "cell_type": "code",
   "execution_count": null,
   "metadata": {},
   "outputs": [],
   "source": [
    "import pandas as pd\n",
    "\n",
    "# Create a new dataframe using information from the combined dataframe (df_final)\n",
    "df_combined = pd.pivot_table(df_final, \n",
    "                            index=['Key', 'Number of Bikes', 'Latitude', 'Longitude'],\n",
    "                            columns='GroupedCategory', \n",
    "                            values='Category', \n",
    "                            aggfunc='count', \n",
    "                            fill_value=0).reset_index()\n",
    "df_combined.columns.name = None\n",
    "\n",
    "df_combined.head(10)"
   ]
  },
  {
   "cell_type": "markdown",
   "metadata": {},
   "source": [
    "Provide model output and an interpretation of the results. "
   ]
  },
  {
   "cell_type": "code",
   "execution_count": null,
   "metadata": {},
   "outputs": [],
   "source": [
    "import numpy as np\n",
    "import pandas as pd\n",
    "import statsmodels.api as sm\n",
    "\n",
    "X = df_combined[['Latitude', 'Longitude', 'Bar/Lounge', 'Business Services', 'Education', 'Entertainment',\n",
    "        'Health Center', 'Home Services', 'Landmarks & Historical Buildings', 'Miscellaneous',\n",
    "        'Other Services', 'Restaurant', 'Retail']]\n",
    "y = df_combined['Number of Bikes']\n",
    "\n",
    "X = sm.add_constant(X)\n",
    "model = sm.OLS(y, X).fit()\n",
    "print(model.summary())"
   ]
  },
  {
   "cell_type": "markdown",
   "metadata": {},
   "source": [
    "# Stretch"
   ]
  },
  {
   "cell_type": "markdown",
   "metadata": {},
   "source": [
    "How can you turn the regression model into a classification model?"
   ]
  },
  {
   "cell_type": "code",
   "execution_count": null,
   "metadata": {},
   "outputs": [],
   "source": []
  }
 ],
 "metadata": {
  "kernelspec": {
   "display_name": "Python 3",
   "language": "python",
   "name": "python3"
  },
  "language_info": {
   "codemirror_mode": {
    "name": "ipython",
    "version": 3
   },
   "file_extension": ".py",
   "mimetype": "text/x-python",
   "name": "python",
   "nbconvert_exporter": "python",
   "pygments_lexer": "ipython3",
   "version": "3.8.5"
  }
 },
 "nbformat": 4,
 "nbformat_minor": 4
}
