{
 "cells": [
  {
   "cell_type": "code",
   "execution_count": 9,
   "metadata": {},
   "outputs": [],
   "source": [
    "# imports\n",
    "# imports\n",
    "import pandas as pd\n",
    "import requests\n",
    "import os # use this to access your environment variables\n",
    "FOURSQUARE_KEY = os.getenv('FOURSQUARE_KEY')\n",
    "YELP_KEY = os.getenv('YELP_KEY')\n",
    "%store -r df_bike_station_data\n"
   ]
  },
  {
   "cell_type": "markdown",
   "metadata": {},
   "source": [
    "# Foursquare"
   ]
  },
  {
   "cell_type": "markdown",
   "metadata": {},
   "source": [
    "Send a request to Foursquare with a small radius (1000m) for all the bike stations in your city of choice. "
   ]
  },
  {
   "cell_type": "code",
   "execution_count": null,
   "metadata": {},
   "outputs": [],
   "source": [
    "def get_venues_fs(latitude, longitude, radius, api_key, categories):\n",
    "    url = \"https://api.foursquare.com/v3/places/search\"\n",
    "    params = {\n",
    "        'll': f\"{latitude},{longitude}\",\n",
    "        'radius': radius,\n",
    "        'v': '20220101',  \n",
    "    }\n",
    "\n",
    "    headers = {\n",
    "        \"Accept\": \"application/json\",\n",
    "        \"Authorization\": api_key\n",
    "    }\n",
    "\n",
    "    if categories:\n",
    "        params['categoryId'] = categories\n",
    "\n",
    "    response = requests.request(\"GET\", url, params=params, headers=headers)\n",
    "    \n",
    "    if response.status_code == 200:\n",
    "        return response.json()\n",
    "    else:\n",
    "        return response.json()\n",
    "\n",
    "\n",
    "radius=1000\n",
    "categories=None\n",
    "\n",
    "# Initialize a dictionary to store results\n",
    "result_dict = {}\n",
    "\n",
    "# Function to process each row and save the result\n",
    "def process_row(row):\n",
    "    result = get_venues_fs(row['Latitude'], row['Longitude'], radius, FOURSQUARE_KEY, categories)\n",
    "    result_dict[row.name] = result\n",
    "\n",
    "# Apply the function to the entire DataFrame\n",
    "data.apply(process_row, axis=1)\n",
    "\n",
    "# Display the result dictionary\n",
    "result_dict\n",
    "first_poi = result_dict[0]['results'][0]"
   ]
  },
  {
   "cell_type": "markdown",
   "metadata": {},
   "source": [
    "Parse through the response to get the POI (such as restaurants, bars, etc) details you want (ratings, name, location, etc)"
   ]
  },
  {
   "cell_type": "code",
   "execution_count": null,
   "metadata": {},
   "outputs": [],
   "source": [
    "parsed_fourSquare_data = {}\n",
    "\n",
    "for key, value in result_dict.items():\n",
    "  venues_data = value.get('results', [])\n",
    "  parsed_venues = []\n",
    "\n",
    "  for venue in venues_data:\n",
    "    venue_name = venue.get('name', 'N/A')\n",
    "    category_info = venue.get('categories', [])\n",
    "        \n",
    "    if category_info:\n",
    "        category_name = category_info[0].get('name', 'N/A')\n",
    "    else:\n",
    "      category_name = 'N/A'\n",
    "        \n",
    "    distance = venue.get('distance', 'N/A')\n",
    "\n",
    "    # Create a dictionary with the extracted information\n",
    "    parsed_venue = {\n",
    "      'name': venue_name,\n",
    "      'category': category_name,\n",
    "      'distance': distance\n",
    "    }\n",
    "\n",
    "    parsed_venues.append(parsed_venue)\n",
    "\n",
    "  # Store the parsed information in the new dictionary\n",
    "  parsed_fourSquare_data[key] = parsed_venues\n",
    "\n",
    "# Display the parsed data\n",
    "# for key, value in parsed_fourSquare_data.items():\n",
    "#   print(f\"Key: {key}\")\n",
    "#   print(value)\n",
    "  \n",
    "\n",
    "#Printing the first 5 surrounding venues from choosen bikeshop\n",
    "print(f\"Key: {1}\")\n",
    "results = parsed_fourSquare_data[1][:5]\n",
    "for result in results:\n",
    "   print(result)"
   ]
  },
  {
   "cell_type": "markdown",
   "metadata": {},
   "source": [
    "Put your parsed results into a DataFrame"
   ]
  },
  {
   "cell_type": "code",
   "execution_count": null,
   "metadata": {},
   "outputs": [],
   "source": [
    "# Create an empty list to store dictionaries\n",
    "data_list = []\n",
    "\n",
    "# Iterate through each key in the dictionary\n",
    "for key in parsed_fourSquare_data:\n",
    "  # Extract the list of results from the dictionary\n",
    "  results_list = parsed_fourSquare_data[key]\n",
    "    \n",
    "  # Iterate through each result in the list\n",
    "  for result in results_list:\n",
    "    # Extract relevant information\n",
    "    name = result.get('name', 'N/A')\n",
    "    category = result.get('category', 'N/A')\n",
    "    distance = result.get('distance', 'N/A')\n",
    "\n",
    "    #Append the data to the list as a dictionary, including the key\n",
    "    data_list.append({'Key': key, 'Name': name, 'Category': category, 'Distance': distance})\n",
    "\n",
    "# Create a DataFrame from parsed_fourSquare_data\n",
    "df_fourSquare_resultData = pd.DataFrame(data_list)\n",
    "\n",
    "# Display the DataFrame\n",
    "%store df_fourSquare_resultData\n",
    "df_fourSquare_resultData"
   ]
  },
  {
   "cell_type": "markdown",
   "metadata": {},
   "source": [
    "# Yelp"
   ]
  },
  {
   "cell_type": "markdown",
   "metadata": {},
   "source": [
    "Send a request to Yelp with a small radius (1000m) for all the bike stations in your city of choice. "
   ]
  },
  {
   "cell_type": "code",
   "execution_count": null,
   "metadata": {},
   "outputs": [],
   "source": [
    "# API constants\n",
    "API_HOST = 'https://api.yelp.com'\n",
    "SEARCH_PATH = '/v3/businesses/search'\n",
    "BUSINESS_PATH = '/v3/businesses/'  # Business ID will come after slash.\n",
    "SEARCH_LIMIT = 10\n",
    "\n",
    "\n",
    "def get_venues_yelp(latitude, longitude, radius, api_key):\n",
    "    url = f\"{API_HOST}{SEARCH_PATH}\"\n",
    "    \n",
    "    params = {\n",
    "        'latitude': latitude,\n",
    "        'longitude': longitude,\n",
    "        'radius': radius,\n",
    "        'categories': '',\n",
    "        'sort_by': 'best_match',\n",
    "        'limit': SEARCH_LIMIT\n",
    "    }\n",
    "\n",
    "    headers = {\n",
    "        'Authorization': f'Bearer {api_key}',\n",
    "        'accept': 'application/json',\n",
    "    }\n",
    "\n",
    "    response = requests.get(url, headers=headers, params=params)\n",
    "\n",
    "    if response.status_code == 200:\n",
    "        return response.json()\n",
    "    else:\n",
    "        return 'Not Successful'\n",
    "\n",
    " \n",
    "radius = 1000\n",
    "\n",
    "\n",
    "# Initialize a dictionary to store results\n",
    "yelp_result_dict = {}\n",
    "\n",
    "# Function to process each bike shop location and save the result\n",
    "def yelp_process_row(row):\n",
    "    yelp_result = get_venues_yelp(row['Latitude'], row['Longitude'], radius, YELP_KEY)\n",
    "    yelp_result_dict[row.name] = yelp_result\n",
    "\n",
    "# Apply the function to the entire bikeshop data\n",
    "data.apply(yelp_process_row, axis=1)\n",
    "\n",
    "# Display the first poi from yelp dictionary\n",
    "first_poi = yelp_result_dict[0]['businesses'][0]\n",
    "print(first_poi)"
   ]
  },
  {
   "cell_type": "markdown",
   "metadata": {},
   "source": [
    "Parse through the response to get the POI (such as restaurants, bars, etc) details you want (ratings, name, location, etc)"
   ]
  },
  {
   "cell_type": "code",
   "execution_count": null,
   "metadata": {},
   "outputs": [],
   "source": [
    "parsed_yelp_data = {}\n",
    "\n",
    "for key, value in yelp_result_dict.items():\n",
    "  yelp_venues_data = value.get('businesses', [])\n",
    "  yelp_parsed_venues = []\n",
    "\n",
    "  for venue in yelp_venues_data:\n",
    "    yelp_venue_name = venue.get('name', 'N/A')\n",
    "    category_info = venue.get('categories', [])\n",
    "    \n",
    "    if category_info:\n",
    "        category_title = category_info[0].get('title', 'N/A')\n",
    "    else:\n",
    "        category_title = 'N/A'\n",
    "    \n",
    "    distance = venue.get('distance', 'N/A')\n",
    "    rating = venue.get('rating', 'N/A')\n",
    "\n",
    "    # Create a dictionary with the extracted information\n",
    "    yelp_parsed_venue = {\n",
    "        'name': yelp_venue_name,\n",
    "        'category': category_title,\n",
    "        'distance': distance,\n",
    "        'rating': rating\n",
    "    }\n",
    "\n",
    "    yelp_parsed_venues.append(yelp_parsed_venue)\n",
    "\n",
    "  # Store the parsed information in the new dictionary\n",
    "  parsed_yelp_data[key] = yelp_parsed_venues\n",
    "\n",
    "# Display the parsed data\n",
    "# for key, value in parsed_yelp_data.items():\n",
    "#     print(f\"Key: {key}\")\n",
    "#     print(value)\n",
    "\n",
    "#Printing the first 5 surrounding venues from choosen bikeshop\n",
    "print(f\"Key: {1}\")\n",
    "y_results = parsed_yelp_data[1][:5]\n",
    "for result in y_results:\n",
    "  print(result)"
   ]
  },
  {
   "cell_type": "markdown",
   "metadata": {},
   "source": [
    "Put your parsed results into a DataFrame"
   ]
  },
  {
   "cell_type": "markdown",
   "metadata": {},
   "source": [
    "# Create an empty list to store dictionaries\n",
    "yelp_data_list = []\n",
    "\n",
    "# Iterate through each key in the dictionary\n",
    "for key in parsed_yelp_data:\n",
    "  # Extract the list of results from the dictionary\n",
    "  yelp_results_list = parsed_yelp_data[key]\n",
    "    \n",
    "  # Iterate through each result in the list\n",
    "  for result in yelp_results_list:\n",
    "    # Extract relevant information\n",
    "    name = result.get('name', 'N/A')\n",
    "    category = result.get('category', 'N/A')\n",
    "    distance = result.get('distance', 'N/A')\n",
    "    rating = result.get('rating', 'N/A')\n",
    "\n",
    "    #Append the data to the list as a dictionary, including the key\n",
    "    yelp_data_list.append({'Key': key, 'Name': name, 'Category': category, 'Distance': distance, 'Rating': rating})\n",
    "\n",
    "# Create a DataFrame from parsed_yelp_data\n",
    "df_yelp_resultData = pd.DataFrame(yelp_data_list)\n",
    "\n",
    "\n",
    "%store df_yelp_resultData\n",
    "df_yelp_resultData"
   ]
  },
  {
   "cell_type": "markdown",
   "metadata": {},
   "source": [
    "# Comparing Results"
   ]
  },
  {
   "cell_type": "markdown",
   "metadata": {},
   "source": [
    "Which API provided you with more complete data? Provide an explanation. "
   ]
  },
  {
   "cell_type": "markdown",
   "metadata": {},
   "source": []
  },
  {
   "cell_type": "markdown",
   "metadata": {},
   "source": [
    "YELP API provided more complete data. YELP API provided ratings and more information on the location that foursquare failed to provide such as rating, price review count, aliases and more.\n"
   ]
  },
  {
   "cell_type": "markdown",
   "metadata": {},
   "source": [
    "Get the top 10 restaurants according to their rating"
   ]
  },
  {
   "cell_type": "code",
   "execution_count": null,
   "metadata": {},
   "outputs": [],
   "source": [
    "top_10_restaurants = df_yelp_resultData.sort_values(by='Rating', ascending=False).head(10)\n",
    "print('Top 10 Restaurants according to rating')\n",
    "print(top_10_restaurants)"
   ]
  }
 ],
 "metadata": {
  "kernelspec": {
   "display_name": "Python 3",
   "language": "python",
   "name": "python3"
  },
  "language_info": {
   "codemirror_mode": {
    "name": "ipython",
    "version": 3
   },
   "file_extension": ".py",
   "mimetype": "text/x-python",
   "name": "python",
   "nbconvert_exporter": "python",
   "pygments_lexer": "ipython3",
   "version": "3.10.9"
  }
 },
 "nbformat": 4,
 "nbformat_minor": 4
}
