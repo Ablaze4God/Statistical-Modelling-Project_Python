{
 "cells": [
  {
   "cell_type": "markdown",
   "metadata": {},
   "source": [
    "Join the data from Part 1 with the data from Part 2 to create a new dataframe."
   ]
  },
  {
   "cell_type": "code",
   "execution_count": null,
   "metadata": {},
   "outputs": [],
   "source": [
    "import pandas as pd\n",
    "import sqlite3\n",
    "\n",
    "%store -r df_bike_station_data\n",
    "%store -r df_yelp_resultData\n",
    "%store -r df_fourSquare_resultData\n",
    "\n",
    "df_bike_station_data = df_bike_station_data\n",
    "df_fourSquare_resultData = df_fourSquare_resultData\n",
    "df_yelp_resultData = df_yelp_resultData\n",
    "\n",
    "first_merged_df = pd.merge(df_bike_station_data, df_fourSquare_resultData, left_index=True, right_on='Key')\n",
    "second_merged_df = pd.merge(df_bike_station_data, df_yelp_resultData, left_index=True, right_on='Key')\n",
    "\n",
    "# Add a 'Rating' column to merged_df with null values\n",
    "first_merged_df['Rating'] = None\n",
    "\n",
    "\n",
    "# Concatenate the two dataframes based using the 'Key' column\n",
    "df_final = pd.concat([first_merged_df, second_merged_df], ignore_index=True)\n",
    "df_final\n",
    "%store df_final\n",
    "df_final.head(10)"
   ]
  },
  {
   "cell_type": "markdown",
   "metadata": {},
   "source": [
    "Provide a visualization that you used as part of your EDA process. Explain the initial pattern or relationship you discoved through this visualization. "
   ]
  },
  {
   "cell_type": "code",
   "execution_count": null,
   "metadata": {},
   "outputs": [],
   "source": [
    "import pandas as pd\n",
    "import numpy as np\n",
    "\n",
    "import matplotlib.pyplot as plt\n",
    "import seaborn as sns\n",
    "\n",
    "# Group by 'Key' and count the occurrences\n",
    "count_df = df_final.groupby('Key').size().reset_index(name='Count')\n",
    "\n",
    "# Create a histogram plot\n",
    "plt.figure(figsize=(10, 6))\n",
    "sns.barplot(x='Key', y='Count', data=count_df, palette='viridis')\n",
    "plt.title('Distribution of Count of Stores/Restaurants around each Bike Shop')\n",
    "plt.xlabel('Bike Shops')\n",
    "plt.ylabel('Frequency')\n",
    "plt.show()"
   ]
  },
  {
   "cell_type": "code",
   "execution_count": null,
   "metadata": {},
   "outputs": [],
   "source": [
    "import pandas as pd\n",
    "import numpy as np\n",
    "import matplotlib.pyplot as plt\n",
    "import seaborn as sns\n",
    "\n",
    "\n",
    "# Group by 'Key' and select the first value of 'Number of Bikes' for each group\n",
    "grouped_df = df_final.groupby('Key').agg({'Number of Bikes': 'first', 'City': 'count'}).reset_index()\n",
    "grouped_df.columns = ['Key', 'Number of Bikes', 'Count of Stores/Restaurants']\n",
    "\n",
    "# Create a grouped bar plot\n",
    "plt.figure(figsize=(12, 6))\n",
    "sns.barplot(x='Key', y='Count of Stores/Restaurants', data=grouped_df, color='orange', label='Count of Stores/Restaurants')\n",
    "sns.barplot(x='Key', y='Number of Bikes', data=grouped_df, color='blue', label='Number of Bikes')\n",
    "\n",
    "plt.title('Comparison of Number of Bikes and Count of Stores/Restaurants around Each Bike Shop')\n",
    "plt.xlabel('Bike Shops')\n",
    "plt.ylabel('Count')\n",
    "plt.legend()\n",
    "plt.show()"
   ]
  },
  {
   "cell_type": "code",
   "execution_count": null,
   "metadata": {},
   "outputs": [],
   "source": [
    "# Box plot for 'Number of Bikes' to check for outliers\n",
    "sns.boxplot(x=grouped_df['Number of Bikes'])\n",
    "plt.show()"
   ]
  },
  {
   "cell_type": "markdown",
   "metadata": {},
   "source": [
    "# Database"
   ]
  },
  {
   "cell_type": "markdown",
   "metadata": {},
   "source": [
    "Put all your results in an SQLite3 database (remember, SQLite stores its databases as files in your local machine - make sure to create your database in your project's data/ directory!)"
   ]
  },
  {
   "cell_type": "code",
   "execution_count": null,
   "metadata": {},
   "outputs": [],
   "source": [
    "conn = sqlite3.connect('../data/citybikes.db') \n",
    "cursor = conn.cursor()\n",
    "\n",
    "# Create bike_stations table\n",
    "cursor.execute('''\n",
    "    CREATE TABLE IF NOT EXISTS bike_stations (\n",
    "        City TEXT,\n",
    "        Latitude REAL,\n",
    "        Longitude REAL,\n",
    "        Number_of_Bikes INTEGER,\n",
    "        Key INTEGER,\n",
    "        PRIMARY KEY (Key)\n",
    "    )\n",
    "''')\n",
    "\n",
    "# Create places table\n",
    "cursor.execute('''\n",
    "    CREATE TABLE IF NOT EXISTS places (\n",
    "        Key INTEGER,\n",
    "        Name TEXT,\n",
    "        Category TEXT,\n",
    "        Distance REAL,\n",
    "        Rating REAL,\n",
    "        FOREIGN KEY (Key) REFERENCES bike_stations(Key)\n",
    "    )\n",
    "''')\n",
    "\n",
    "conn.commit()\n",
    "\n",
    "\n",
    "# Insert data into bike_stations table\n",
    "df_bike_station_data.to_sql('bike_stations', conn, index=True, if_exists='replace', index_label='Key')\n",
    "\n",
    "\n",
    "# Insert data into places table\n",
    "places_df = df_final[['Key', 'Name', 'Category', 'Distance', 'Rating']]\n",
    "places_df.to_sql('places', conn, index=False, if_exists='replace')\n",
    "\n",
    "conn.close()"
   ]
  },
  {
   "cell_type": "markdown",
   "metadata": {},
   "source": [
    "Look at the data before and after the join to validate your data."
   ]
  },
  {
   "cell_type": "code",
   "execution_count": null,
   "metadata": {},
   "outputs": [],
   "source": [
    "conn = sqlite3.connect('../data/citybikes.db') \n",
    "pd.read_sql(\"\"\"SELECT *\n",
    "            FROM places\n",
    "            \"\"\", conn\n",
    "                    )"
   ]
  }
 ],
 "metadata": {
  "kernelspec": {
   "display_name": "Python 3",
   "language": "python",
   "name": "python3"
  },
  "language_info": {
   "codemirror_mode": {
    "name": "ipython",
    "version": 3
   },
   "file_extension": ".py",
   "mimetype": "text/x-python",
   "name": "python",
   "nbconvert_exporter": "python",
   "pygments_lexer": "ipython3",
   "version": "3.8.5"
  }
 },
 "nbformat": 4,
 "nbformat_minor": 4
}
